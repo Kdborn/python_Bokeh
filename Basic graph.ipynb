{
 "cells": [
  {
   "cell_type": "code",
   "execution_count": 2,
   "id": "87c46b7d",
   "metadata": {},
   "outputs": [],
   "source": [
    "#making a basic Bokeh line graph\n",
    "\n",
    "#importing Bokeh\n",
    "from bokeh.plotting import figure\n",
    "from bokeh.io import output_file,show\n",
    "\n",
    "#prepare some data \n",
    "x=[1,2,3,4,5]\n",
    "y=[6,7,8,9,10]\n",
    "\n",
    "#prepare the output file\n",
    "output_file(\"line.html\")\n",
    "\n",
    "#create a figure object\n",
    "f=figure()\n",
    "\n",
    "#create line plot\n",
    "f.line(x,y)\n",
    "\n",
    "#write the plot in the figue\n",
    "show(f)"
   ]
  },
  {
   "cell_type": "code",
   "execution_count": 12,
   "id": "d11fcd63",
   "metadata": {},
   "outputs": [],
   "source": [
    "#prepare some data \n",
    "x=[3,7.5,10]\n",
    "y=[3,6,9]\n",
    "\n",
    "#prepare the output file\n",
    "output_file(\"circle.html\")\n",
    "\n",
    "#create a figure object\n",
    "f=figure()\n",
    "\n",
    "#create Circle plot\n",
    "f.circle_cross(x,y,size=10)\n",
    "\n",
    "#write the plot in the figue\n",
    "show(f)"
   ]
  },
  {
   "cell_type": "code",
   "execution_count": 14,
   "id": "198974f6",
   "metadata": {},
   "outputs": [],
   "source": [
    "#prepare some data \n",
    "x=[3,7.5,10]\n",
    "y=[3,6,9]\n",
    "\n",
    "#prepare the output file\n",
    "output_file(\"triangle.html\")\n",
    "\n",
    "#create a figure object\n",
    "f=figure()\n",
    "\n",
    "#create triangle plot\n",
    "f.triangle(x,y,size=15)\n",
    "\n",
    "#write the plot in the figue\n",
    "show(f)"
   ]
  },
  {
   "cell_type": "code",
   "execution_count": 20,
   "id": "aad90e4b",
   "metadata": {},
   "outputs": [],
   "source": [
    "#prepare some data \n",
    "x=[3,7.5,10]\n",
    "y=[3,6,9]\n",
    "\n",
    "#prepare the output file\n",
    "output_file(\"square.html\")\n",
    "\n",
    "#create a figure object\n",
    "f=figure()\n",
    "\n",
    "#create triangle plot\n",
    "f.square(x,y,size=15)\n",
    "\n",
    "\n",
    "#write the plot in the figue\n",
    "show(f)"
   ]
  },
  {
   "cell_type": "code",
   "execution_count": 19,
   "id": "6105aea5",
   "metadata": {},
   "outputs": [],
   "source": [
    "#prepare some data \n",
    "x=[3,7.5,10]\n",
    "y=[3,6,9]\n",
    "m=[\"circle\",\"triangle\",\"square\"]\n",
    "\n",
    "#prepare the output file\n",
    "output_file(\"marker.html\")\n",
    "\n",
    "#create a figure object\n",
    "f=figure()\n",
    "\n",
    "#create triangle plot\n",
    "f.scatter(x,y,marker=m,size=15)\n",
    "\n",
    "#write the plot in the figue\n",
    "show(f)"
   ]
  },
  {
   "cell_type": "code",
   "execution_count": 34,
   "id": "3868cef3",
   "metadata": {},
   "outputs": [],
   "source": [
    "#making a basic Bokeh line graph\n",
    "\n",
    "#importing Bokeh\n",
    "from bokeh.plotting import figure\n",
    "from bokeh.io import output_file,show\n",
    "import pandas\n",
    "\n",
    "#prepare some data\n",
    "df=pandas.read_csv(\"data.csv\",delimiter=';')\n",
    "\n",
    "x=df[\"x\"]\n",
    "y=df[\"y\"]\n",
    "\n",
    "#prepare the output file\n",
    "output_file(\"line_from_csv.html\")\n",
    "\n",
    "#create a figure object\n",
    "f=figure()\n",
    "\n",
    "#create line plot\n",
    "f.line(x,y)\n",
    "\n",
    "#write the plot in the figue\n",
    "show(f)"
   ]
  },
  {
   "cell_type": "code",
   "execution_count": 33,
   "id": "4dc3c387",
   "metadata": {},
   "outputs": [
    {
     "data": {
      "text/plain": [
       "0    1\n",
       "1    2\n",
       "2    3\n",
       "3    4\n",
       "4    5\n",
       "Name: x, dtype: int64"
      ]
     },
     "execution_count": 33,
     "metadata": {},
     "output_type": "execute_result"
    }
   ],
   "source": [
    "df[\"x\"]\n"
   ]
  }
 ],
 "metadata": {
  "kernelspec": {
   "display_name": "Python 3 (ipykernel)",
   "language": "python",
   "name": "python3"
  },
  "language_info": {
   "codemirror_mode": {
    "name": "ipython",
    "version": 3
   },
   "file_extension": ".py",
   "mimetype": "text/x-python",
   "name": "python",
   "nbconvert_exporter": "python",
   "pygments_lexer": "ipython3",
   "version": "3.10.0"
  }
 },
 "nbformat": 4,
 "nbformat_minor": 5
}
